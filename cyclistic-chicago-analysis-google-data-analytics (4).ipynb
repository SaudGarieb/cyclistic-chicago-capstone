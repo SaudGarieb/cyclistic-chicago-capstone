{
 "cells": [
  {
   "cell_type": "markdown",
   "id": "13fe8afd",
   "metadata": {
    "papermill": {
     "duration": 0.005472,
     "end_time": "2024-09-27T04:17:04.448102",
     "exception": false,
     "start_time": "2024-09-27T04:17:04.442630",
     "status": "completed"
    },
    "tags": []
   },
   "source": [
    "Ask: Business Problem\n",
    "\n",
    "Business Task: The objective is to identify how annual members and casual riders use Cyclistic bike-share services differently. This analysis will help in developing marketing strategies to convert casual riders into annual members.\n",
    "\n",
    "Stakeholders:\n",
    "\n",
    "Cyclistic marketing team (responsible for the marketing campaigns)\n",
    "Cyclistic executive team (approves the strategies)\n",
    "Deliverable: Clear insights into the differences between casual riders and annual members to provide actionable recommendations for converting casual riders into annual members.\n",
    "\n",
    "Prepare: Data Preparation\n",
    "We will use the publicly available Cyclistic trip data (Divvy bike-share) from 2019 and early 2020. This data contains information about bike trips, including start and end times, station locations, rider type, and more.\n",
    "\n",
    "Data Source: Cyclistic bike-share data (fictional dataset for analysis purposes).\n",
    "Data Period: 2019 (Q2, Q3, Q4) and 2020 (Q1).\n",
    "Data Credibility: The dataset is anonymous and does not contain personal information. The primary variables include:\n",
    "\n",
    "ride_id: Unique identifier for each ride.\n",
    "started_at, ended_at: Timestamps for when each ride started and ended.\n",
    "start_station_name, end_station_name: Stations where the ride began and ended.\n",
    "member_casual: Indicates whether the rider is a casual rider or an annual member.\n",
    "\n",
    "Process: Data Cleaning and Transformation\n",
    "\n",
    "Step 1: Collect data"
   ]
  },
  {
   "cell_type": "code",
   "execution_count": 1,
   "id": "2c7b2ccf",
   "metadata": {
    "execution": {
     "iopub.execute_input": "2024-09-27T04:17:04.460146Z",
     "iopub.status.busy": "2024-09-27T04:17:04.457919Z",
     "iopub.status.idle": "2024-09-27T04:17:16.237804Z",
     "shell.execute_reply": "2024-09-27T04:17:16.235757Z"
    },
    "papermill": {
     "duration": 11.789142,
     "end_time": "2024-09-27T04:17:16.241129",
     "exception": false,
     "start_time": "2024-09-27T04:17:04.451987",
     "status": "completed"
    },
    "tags": []
   },
   "outputs": [
    {
     "name": "stderr",
     "output_type": "stream",
     "text": [
      "── \u001b[1mAttaching core tidyverse packages\u001b[22m ──────────────────────── tidyverse 2.0.0 ──\n",
      "\u001b[32m✔\u001b[39m \u001b[34mdplyr    \u001b[39m 1.1.4     \u001b[32m✔\u001b[39m \u001b[34mreadr    \u001b[39m 2.1.5\n",
      "\u001b[32m✔\u001b[39m \u001b[34mforcats  \u001b[39m 1.0.0     \u001b[32m✔\u001b[39m \u001b[34mstringr  \u001b[39m 1.5.1\n",
      "\u001b[32m✔\u001b[39m \u001b[34mggplot2  \u001b[39m 3.5.1     \u001b[32m✔\u001b[39m \u001b[34mtibble   \u001b[39m 3.2.1\n",
      "\u001b[32m✔\u001b[39m \u001b[34mlubridate\u001b[39m 1.9.3     \u001b[32m✔\u001b[39m \u001b[34mtidyr    \u001b[39m 1.3.1\n",
      "\u001b[32m✔\u001b[39m \u001b[34mpurrr    \u001b[39m 1.0.2     \n"
     ]
    },
    {
     "name": "stderr",
     "output_type": "stream",
     "text": [
      "── \u001b[1mConflicts\u001b[22m ────────────────────────────────────────── tidyverse_conflicts() ──\n",
      "\u001b[31m✖\u001b[39m \u001b[34mdplyr\u001b[39m::\u001b[32mfilter()\u001b[39m masks \u001b[34mstats\u001b[39m::filter()\n",
      "\u001b[31m✖\u001b[39m \u001b[34mdplyr\u001b[39m::\u001b[32mlag()\u001b[39m    masks \u001b[34mstats\u001b[39m::lag()\n",
      "\u001b[36mℹ\u001b[39m Use the conflicted package (\u001b[3m\u001b[34m<http://conflicted.r-lib.org/>\u001b[39m\u001b[23m) to force all conflicts to become errors\n"
     ]
    },
    {
     "name": "stderr",
     "output_type": "stream",
     "text": [
      "\u001b[1mRows: \u001b[22m\u001b[34m1108163\u001b[39m \u001b[1mColumns: \u001b[22m\u001b[34m12\u001b[39m\n"
     ]
    },
    {
     "name": "stderr",
     "output_type": "stream",
     "text": [
      "\u001b[36m──\u001b[39m \u001b[1mColumn specification\u001b[22m \u001b[36m────────────────────────────────────────────────────────\u001b[39m\n",
      "\u001b[1mDelimiter:\u001b[22m \",\"\n",
      "\u001b[31mchr\u001b[39m  (4): 03 - Rental Start Station Name, 02 - Rental End Station Name, User...\n",
      "\u001b[32mdbl\u001b[39m  (5): 01 - Rental Details Rental ID, 01 - Rental Details Bike ID, 03 - R...\n",
      "\u001b[32mnum\u001b[39m  (1): 01 - Rental Details Duration In Seconds Uncapped\n",
      "\u001b[34mdttm\u001b[39m (2): 01 - Rental Details Local Start Time, 01 - Rental Details Local En...\n"
     ]
    },
    {
     "name": "stderr",
     "output_type": "stream",
     "text": [
      "\n",
      "\u001b[36mℹ\u001b[39m Use `spec()` to retrieve the full column specification for this data.\n",
      "\u001b[36mℹ\u001b[39m Specify the column types or set `show_col_types = FALSE` to quiet this message.\n"
     ]
    },
    {
     "name": "stderr",
     "output_type": "stream",
     "text": [
      "\u001b[1mRows: \u001b[22m\u001b[34m1640718\u001b[39m \u001b[1mColumns: \u001b[22m\u001b[34m12\u001b[39m\n"
     ]
    },
    {
     "name": "stderr",
     "output_type": "stream",
     "text": [
      "\u001b[36m──\u001b[39m \u001b[1mColumn specification\u001b[22m \u001b[36m────────────────────────────────────────────────────────\u001b[39m\n",
      "\u001b[1mDelimiter:\u001b[22m \",\"\n",
      "\u001b[31mchr\u001b[39m  (4): from_station_name, to_station_name, usertype, gender\n",
      "\u001b[32mdbl\u001b[39m  (5): trip_id, bikeid, from_station_id, to_station_id, birthyear\n",
      "\u001b[32mnum\u001b[39m  (1): tripduration\n",
      "\u001b[34mdttm\u001b[39m (2): start_time, end_time\n"
     ]
    },
    {
     "name": "stderr",
     "output_type": "stream",
     "text": [
      "\n",
      "\u001b[36mℹ\u001b[39m Use `spec()` to retrieve the full column specification for this data.\n",
      "\u001b[36mℹ\u001b[39m Specify the column types or set `show_col_types = FALSE` to quiet this message.\n"
     ]
    },
    {
     "name": "stderr",
     "output_type": "stream",
     "text": [
      "\u001b[1mRows: \u001b[22m\u001b[34m704054\u001b[39m \u001b[1mColumns: \u001b[22m\u001b[34m12\u001b[39m\n"
     ]
    },
    {
     "name": "stderr",
     "output_type": "stream",
     "text": [
      "\u001b[36m──\u001b[39m \u001b[1mColumn specification\u001b[22m \u001b[36m────────────────────────────────────────────────────────\u001b[39m\n",
      "\u001b[1mDelimiter:\u001b[22m \",\"\n",
      "\u001b[31mchr\u001b[39m  (4): from_station_name, to_station_name, usertype, gender\n",
      "\u001b[32mdbl\u001b[39m  (5): trip_id, bikeid, from_station_id, to_station_id, birthyear\n",
      "\u001b[32mnum\u001b[39m  (1): tripduration\n",
      "\u001b[34mdttm\u001b[39m (2): start_time, end_time\n"
     ]
    },
    {
     "name": "stderr",
     "output_type": "stream",
     "text": [
      "\n",
      "\u001b[36mℹ\u001b[39m Use `spec()` to retrieve the full column specification for this data.\n",
      "\u001b[36mℹ\u001b[39m Specify the column types or set `show_col_types = FALSE` to quiet this message.\n"
     ]
    },
    {
     "name": "stderr",
     "output_type": "stream",
     "text": [
      "\u001b[1mRows: \u001b[22m\u001b[34m426887\u001b[39m \u001b[1mColumns: \u001b[22m\u001b[34m13\u001b[39m\n"
     ]
    },
    {
     "name": "stderr",
     "output_type": "stream",
     "text": [
      "\u001b[36m──\u001b[39m \u001b[1mColumn specification\u001b[22m \u001b[36m────────────────────────────────────────────────────────\u001b[39m\n",
      "\u001b[1mDelimiter:\u001b[22m \",\"\n",
      "\u001b[31mchr\u001b[39m  (5): ride_id, rideable_type, start_station_name, end_station_name, memb...\n",
      "\u001b[32mdbl\u001b[39m  (6): start_station_id, end_station_id, start_lat, start_lng, end_lat, e...\n",
      "\u001b[34mdttm\u001b[39m (2): started_at, ended_at\n"
     ]
    },
    {
     "name": "stderr",
     "output_type": "stream",
     "text": [
      "\n",
      "\u001b[36mℹ\u001b[39m Use `spec()` to retrieve the full column specification for this data.\n",
      "\u001b[36mℹ\u001b[39m Specify the column types or set `show_col_types = FALSE` to quiet this message.\n"
     ]
    }
   ],
   "source": [
    "# Load necessary libraries\n",
    "library(tidyverse)  # data wrangling\n",
    "library(lubridate)  # handle date and time\n",
    "library(ggplot2)    # visualization\n",
    "\n",
    "# Load the datasets\n",
    "q2_2019 <- read_csv(\"/kaggle/input/cyclistic-exercise-full-year-analysis-2019-2020/Divvy_Trips_2019_Q2/Divvy_Trips_2019_Q2.csv\")\n",
    "q3_2019 <- read_csv(\"/kaggle/input/cyclistic-exercise-full-year-analysis-2019-2020/Divvy_Trips_2019_Q3/Divvy_Trips_2019_Q3.csv\")\n",
    "q4_2019 <- read_csv(\"/kaggle/input/cyclistic-exercise-full-year-analysis-2019-2020/Divvy_Trips_2019_Q4/Divvy_Trips_2019_Q4.csv\")\n",
    "q1_2020 <- read_csv(\"/kaggle/input/cyclistic-exercise-full-year-analysis-2019-2020/Divvy_Trips_2020_Q1/Divvy_Trips_2020_Q1.csv\")\n"
   ]
  },
  {
   "cell_type": "markdown",
   "id": "ea3de400",
   "metadata": {
    "papermill": {
     "duration": 0.004539,
     "end_time": "2024-09-27T04:17:16.250411",
     "exception": false,
     "start_time": "2024-09-27T04:17:16.245872",
     "status": "completed"
    },
    "tags": []
   },
   "source": [
    "Step 2: Wrangle data and combine into a single file\n",
    "\n",
    "Compare and rename columns to make the datasets consistent.\n",
    "Bind the datasets together."
   ]
  },
  {
   "cell_type": "code",
   "execution_count": 2,
   "id": "d1f89fac",
   "metadata": {
    "execution": {
     "iopub.execute_input": "2024-09-27T04:17:16.294541Z",
     "iopub.status.busy": "2024-09-27T04:17:16.261555Z",
     "iopub.status.idle": "2024-09-27T04:17:29.659420Z",
     "shell.execute_reply": "2024-09-27T04:17:29.657491Z"
    },
    "papermill": {
     "duration": 13.407979,
     "end_time": "2024-09-27T04:17:29.662967",
     "exception": false,
     "start_time": "2024-09-27T04:17:16.254988",
     "status": "completed"
    },
    "tags": []
   },
   "outputs": [
    {
     "data": {
      "text/html": [
       "<style>\n",
       ".list-inline {list-style: none; margin:0; padding: 0}\n",
       ".list-inline>li {display: inline-block}\n",
       ".list-inline>li:not(:last-child)::after {content: \"\\00b7\"; padding: 0 .5ex}\n",
       "</style>\n",
       "<ol class=list-inline><li>'01 - Rental Details Rental ID'</li><li>'01 - Rental Details Local Start Time'</li><li>'01 - Rental Details Local End Time'</li><li>'01 - Rental Details Bike ID'</li><li>'01 - Rental Details Duration In Seconds Uncapped'</li><li>'03 - Rental Start Station ID'</li><li>'03 - Rental Start Station Name'</li><li>'02 - Rental End Station ID'</li><li>'02 - Rental End Station Name'</li><li>'User Type'</li><li>'Member Gender'</li><li>'05 - Member Details Member Birthday Year'</li></ol>\n"
      ],
      "text/latex": [
       "\\begin{enumerate*}\n",
       "\\item '01 - Rental Details Rental ID'\n",
       "\\item '01 - Rental Details Local Start Time'\n",
       "\\item '01 - Rental Details Local End Time'\n",
       "\\item '01 - Rental Details Bike ID'\n",
       "\\item '01 - Rental Details Duration In Seconds Uncapped'\n",
       "\\item '03 - Rental Start Station ID'\n",
       "\\item '03 - Rental Start Station Name'\n",
       "\\item '02 - Rental End Station ID'\n",
       "\\item '02 - Rental End Station Name'\n",
       "\\item 'User Type'\n",
       "\\item 'Member Gender'\n",
       "\\item '05 - Member Details Member Birthday Year'\n",
       "\\end{enumerate*}\n"
      ],
      "text/markdown": [
       "1. '01 - Rental Details Rental ID'\n",
       "2. '01 - Rental Details Local Start Time'\n",
       "3. '01 - Rental Details Local End Time'\n",
       "4. '01 - Rental Details Bike ID'\n",
       "5. '01 - Rental Details Duration In Seconds Uncapped'\n",
       "6. '03 - Rental Start Station ID'\n",
       "7. '03 - Rental Start Station Name'\n",
       "8. '02 - Rental End Station ID'\n",
       "9. '02 - Rental End Station Name'\n",
       "10. 'User Type'\n",
       "11. 'Member Gender'\n",
       "12. '05 - Member Details Member Birthday Year'\n",
       "\n",
       "\n"
      ],
      "text/plain": [
       " [1] \"01 - Rental Details Rental ID\"                   \n",
       " [2] \"01 - Rental Details Local Start Time\"            \n",
       " [3] \"01 - Rental Details Local End Time\"              \n",
       " [4] \"01 - Rental Details Bike ID\"                     \n",
       " [5] \"01 - Rental Details Duration In Seconds Uncapped\"\n",
       " [6] \"03 - Rental Start Station ID\"                    \n",
       " [7] \"03 - Rental Start Station Name\"                  \n",
       " [8] \"02 - Rental End Station ID\"                      \n",
       " [9] \"02 - Rental End Station Name\"                    \n",
       "[10] \"User Type\"                                       \n",
       "[11] \"Member Gender\"                                   \n",
       "[12] \"05 - Member Details Member Birthday Year\"        "
      ]
     },
     "metadata": {},
     "output_type": "display_data"
    },
    {
     "data": {
      "text/html": [
       "<style>\n",
       ".list-inline {list-style: none; margin:0; padding: 0}\n",
       ".list-inline>li {display: inline-block}\n",
       ".list-inline>li:not(:last-child)::after {content: \"\\00b7\"; padding: 0 .5ex}\n",
       "</style>\n",
       "<ol class=list-inline><li>'trip_id'</li><li>'start_time'</li><li>'end_time'</li><li>'bikeid'</li><li>'tripduration'</li><li>'from_station_id'</li><li>'from_station_name'</li><li>'to_station_id'</li><li>'to_station_name'</li><li>'usertype'</li><li>'gender'</li><li>'birthyear'</li></ol>\n"
      ],
      "text/latex": [
       "\\begin{enumerate*}\n",
       "\\item 'trip\\_id'\n",
       "\\item 'start\\_time'\n",
       "\\item 'end\\_time'\n",
       "\\item 'bikeid'\n",
       "\\item 'tripduration'\n",
       "\\item 'from\\_station\\_id'\n",
       "\\item 'from\\_station\\_name'\n",
       "\\item 'to\\_station\\_id'\n",
       "\\item 'to\\_station\\_name'\n",
       "\\item 'usertype'\n",
       "\\item 'gender'\n",
       "\\item 'birthyear'\n",
       "\\end{enumerate*}\n"
      ],
      "text/markdown": [
       "1. 'trip_id'\n",
       "2. 'start_time'\n",
       "3. 'end_time'\n",
       "4. 'bikeid'\n",
       "5. 'tripduration'\n",
       "6. 'from_station_id'\n",
       "7. 'from_station_name'\n",
       "8. 'to_station_id'\n",
       "9. 'to_station_name'\n",
       "10. 'usertype'\n",
       "11. 'gender'\n",
       "12. 'birthyear'\n",
       "\n",
       "\n"
      ],
      "text/plain": [
       " [1] \"trip_id\"           \"start_time\"        \"end_time\"         \n",
       " [4] \"bikeid\"            \"tripduration\"      \"from_station_id\"  \n",
       " [7] \"from_station_name\" \"to_station_id\"     \"to_station_name\"  \n",
       "[10] \"usertype\"          \"gender\"            \"birthyear\"        "
      ]
     },
     "metadata": {},
     "output_type": "display_data"
    },
    {
     "data": {
      "text/html": [
       "<style>\n",
       ".list-inline {list-style: none; margin:0; padding: 0}\n",
       ".list-inline>li {display: inline-block}\n",
       ".list-inline>li:not(:last-child)::after {content: \"\\00b7\"; padding: 0 .5ex}\n",
       "</style>\n",
       "<ol class=list-inline><li>'trip_id'</li><li>'start_time'</li><li>'end_time'</li><li>'bikeid'</li><li>'tripduration'</li><li>'from_station_id'</li><li>'from_station_name'</li><li>'to_station_id'</li><li>'to_station_name'</li><li>'usertype'</li><li>'gender'</li><li>'birthyear'</li></ol>\n"
      ],
      "text/latex": [
       "\\begin{enumerate*}\n",
       "\\item 'trip\\_id'\n",
       "\\item 'start\\_time'\n",
       "\\item 'end\\_time'\n",
       "\\item 'bikeid'\n",
       "\\item 'tripduration'\n",
       "\\item 'from\\_station\\_id'\n",
       "\\item 'from\\_station\\_name'\n",
       "\\item 'to\\_station\\_id'\n",
       "\\item 'to\\_station\\_name'\n",
       "\\item 'usertype'\n",
       "\\item 'gender'\n",
       "\\item 'birthyear'\n",
       "\\end{enumerate*}\n"
      ],
      "text/markdown": [
       "1. 'trip_id'\n",
       "2. 'start_time'\n",
       "3. 'end_time'\n",
       "4. 'bikeid'\n",
       "5. 'tripduration'\n",
       "6. 'from_station_id'\n",
       "7. 'from_station_name'\n",
       "8. 'to_station_id'\n",
       "9. 'to_station_name'\n",
       "10. 'usertype'\n",
       "11. 'gender'\n",
       "12. 'birthyear'\n",
       "\n",
       "\n"
      ],
      "text/plain": [
       " [1] \"trip_id\"           \"start_time\"        \"end_time\"         \n",
       " [4] \"bikeid\"            \"tripduration\"      \"from_station_id\"  \n",
       " [7] \"from_station_name\" \"to_station_id\"     \"to_station_name\"  \n",
       "[10] \"usertype\"          \"gender\"            \"birthyear\"        "
      ]
     },
     "metadata": {},
     "output_type": "display_data"
    },
    {
     "data": {
      "text/html": [
       "<style>\n",
       ".list-inline {list-style: none; margin:0; padding: 0}\n",
       ".list-inline>li {display: inline-block}\n",
       ".list-inline>li:not(:last-child)::after {content: \"\\00b7\"; padding: 0 .5ex}\n",
       "</style>\n",
       "<ol class=list-inline><li>'ride_id'</li><li>'rideable_type'</li><li>'started_at'</li><li>'ended_at'</li><li>'start_station_name'</li><li>'start_station_id'</li><li>'end_station_name'</li><li>'end_station_id'</li><li>'start_lat'</li><li>'start_lng'</li><li>'end_lat'</li><li>'end_lng'</li><li>'member_casual'</li></ol>\n"
      ],
      "text/latex": [
       "\\begin{enumerate*}\n",
       "\\item 'ride\\_id'\n",
       "\\item 'rideable\\_type'\n",
       "\\item 'started\\_at'\n",
       "\\item 'ended\\_at'\n",
       "\\item 'start\\_station\\_name'\n",
       "\\item 'start\\_station\\_id'\n",
       "\\item 'end\\_station\\_name'\n",
       "\\item 'end\\_station\\_id'\n",
       "\\item 'start\\_lat'\n",
       "\\item 'start\\_lng'\n",
       "\\item 'end\\_lat'\n",
       "\\item 'end\\_lng'\n",
       "\\item 'member\\_casual'\n",
       "\\end{enumerate*}\n"
      ],
      "text/markdown": [
       "1. 'ride_id'\n",
       "2. 'rideable_type'\n",
       "3. 'started_at'\n",
       "4. 'ended_at'\n",
       "5. 'start_station_name'\n",
       "6. 'start_station_id'\n",
       "7. 'end_station_name'\n",
       "8. 'end_station_id'\n",
       "9. 'start_lat'\n",
       "10. 'start_lng'\n",
       "11. 'end_lat'\n",
       "12. 'end_lng'\n",
       "13. 'member_casual'\n",
       "\n",
       "\n"
      ],
      "text/plain": [
       " [1] \"ride_id\"            \"rideable_type\"      \"started_at\"        \n",
       " [4] \"ended_at\"           \"start_station_name\" \"start_station_id\"  \n",
       " [7] \"end_station_name\"   \"end_station_id\"     \"start_lat\"         \n",
       "[10] \"start_lng\"          \"end_lat\"            \"end_lng\"           \n",
       "[13] \"member_casual\"     "
      ]
     },
     "metadata": {},
     "output_type": "display_data"
    }
   ],
   "source": [
    "#STEP 2: Wrangle Data and Combine into a Single File\n",
    "\n",
    "# Compare column names of each file\n",
    "colnames(q2_2019)\n",
    "colnames(q3_2019)\n",
    "colnames(q4_2019)\n",
    "colnames(q1_2020)\n",
    "\n",
    "# Rename columns to match q1_2020 for consistency\n",
    "q4_2019 <- rename(q4_2019,\n",
    "                  ride_id = trip_id,\n",
    "                  rideable_type = bikeid, \n",
    "                  started_at = start_time,  \n",
    "                  ended_at = end_time,  \n",
    "                  start_station_name = from_station_name, \n",
    "                  start_station_id = from_station_id, \n",
    "                  end_station_name = to_station_name, \n",
    "                  end_station_id = to_station_id, \n",
    "                  member_casual = usertype)\n",
    "\n",
    "q3_2019 <- rename(q3_2019,\n",
    "                  ride_id = trip_id,\n",
    "                  rideable_type = bikeid, \n",
    "                  started_at = start_time,  \n",
    "                  ended_at = end_time,  \n",
    "                  start_station_name = from_station_name, \n",
    "                  start_station_id = from_station_id, \n",
    "                  end_station_name = to_station_name, \n",
    "                  end_station_id = to_station_id, \n",
    "                  member_casual = usertype)\n",
    "\n",
    "q2_2019 <- rename(q2_2019,\n",
    "                  ride_id = \"01 - Rental Details Rental ID\",\n",
    "                  rideable_type = \"01 - Rental Details Bike ID\", \n",
    "                  started_at = \"01 - Rental Details Local Start Time\",  \n",
    "                  ended_at = \"01 - Rental Details Local End Time\",  \n",
    "                  start_station_name = \"03 - Rental Start Station Name\", \n",
    "                  start_station_id = \"03 - Rental Start Station ID\", \n",
    "                  end_station_name = \"02 - Rental End Station Name\", \n",
    "                  end_station_id = \"02 - Rental End Station ID\", \n",
    "                  member_casual = \"User Type\")\n",
    "\n",
    "# Converting Data Types\n",
    "q4_2019 <- mutate(q4_2019, ride_id = as.character(ride_id), rideable_type = as.character(rideable_type))\n",
    "q3_2019 <- mutate(q3_2019, ride_id = as.character(ride_id), rideable_type = as.character(rideable_type))\n",
    "q2_2019 <- mutate(q2_2019, ride_id = as.character(ride_id), rideable_type = as.character(rideable_type))\n",
    "\n",
    "# Combine the datasets into one\n",
    "all_trips <- bind_rows(q2_2019, q3_2019, q4_2019, q1_2020)\n",
    "\n",
    "# Remove unnecessary columns\n",
    "all_trips <- all_trips %>%  \n",
    "  select(-c(start_lat, start_lng, end_lat, end_lng, birthyear, gender, \"01 - Rental Details Duration In Seconds Uncapped\", \"05 - Member Details Member Birthday Year\", \"Member Gender\", \"tripduration\"))\n",
    "\n"
   ]
  },
  {
   "cell_type": "code",
   "execution_count": 3,
   "id": "8acc5033",
   "metadata": {
    "execution": {
     "iopub.execute_input": "2024-09-27T04:17:29.677640Z",
     "iopub.status.busy": "2024-09-27T04:17:29.676069Z",
     "iopub.status.idle": "2024-09-27T04:17:46.228694Z",
     "shell.execute_reply": "2024-09-27T04:17:46.226649Z"
    },
    "papermill": {
     "duration": 16.562964,
     "end_time": "2024-09-27T04:17:46.231558",
     "exception": false,
     "start_time": "2024-09-27T04:17:29.668594",
     "status": "completed"
    },
    "tags": []
   },
   "outputs": [],
   "source": [
    "#STEP 3: Clean Up and Add Data to Prepare for Analysis:\n",
    "\n",
    "# Reassign labels to make them consistent\n",
    "all_trips <- all_trips %>% \n",
    "  mutate(member_casual = recode(member_casual,\n",
    "                                \"Subscriber\" = \"member\",\n",
    "                                \"Customer\" = \"casual\"))\n",
    "\n",
    "# Add columns for date, month, day, year, and day of the week\n",
    "all_trips$date <- as.Date(all_trips$started_at)\n",
    "all_trips$month <- format(as.Date(all_trips$date), \"%m\")\n",
    "all_trips$day <- format(as.Date(all_trips$date), \"%d\")\n",
    "all_trips$year <- format(as.Date(all_trips$date), \"%Y\")\n",
    "all_trips$day_of_week <- format(as.Date(all_trips$date), \"%A\")\n",
    "\n",
    "# Add a column for ride length\n",
    "all_trips$ride_length <- difftime(all_trips$ended_at, all_trips$started_at)\n",
    "\n",
    "# Convert ride_length to numeric\n",
    "all_trips$ride_length <- as.numeric(as.character(all_trips$ride_length))\n",
    "\n",
    "# Remove rows where the start station name is \"HQ QR\" or ride_length is negative\n",
    "all_trips_v2 <- all_trips[!(all_trips$start_station_name == \"HQ QR\" | all_trips$ride_length < 0), ]\n",
    "\n"
   ]
  },
  {
   "cell_type": "markdown",
   "id": "f5664685",
   "metadata": {
    "papermill": {
     "duration": 0.008237,
     "end_time": "2024-09-27T04:17:46.248399",
     "exception": false,
     "start_time": "2024-09-27T04:17:46.240162",
     "status": "completed"
    },
    "tags": []
   },
   "source": [
    "Analyze: Data Analysis\n",
    "Descriptive Analysis\n",
    "\n",
    "Calculate the average, median, max, and min ride lengths for both casual riders and annual members."
   ]
  },
  {
   "cell_type": "code",
   "execution_count": 4,
   "id": "94a0759d",
   "metadata": {
    "execution": {
     "iopub.execute_input": "2024-09-27T04:17:46.265159Z",
     "iopub.status.busy": "2024-09-27T04:17:46.262682Z",
     "iopub.status.idle": "2024-09-27T04:18:05.283640Z",
     "shell.execute_reply": "2024-09-27T04:18:05.281903Z"
    },
    "papermill": {
     "duration": 19.031691,
     "end_time": "2024-09-27T04:18:05.286265",
     "exception": false,
     "start_time": "2024-09-27T04:17:46.254574",
     "status": "completed"
    },
    "tags": []
   },
   "outputs": [
    {
     "data": {
      "text/html": [
       "1479.13902790527"
      ],
      "text/latex": [
       "1479.13902790527"
      ],
      "text/markdown": [
       "1479.13902790527"
      ],
      "text/plain": [
       "[1] 1479.139"
      ]
     },
     "metadata": {},
     "output_type": "display_data"
    },
    {
     "data": {
      "text/html": [
       "712"
      ],
      "text/latex": [
       "712"
      ],
      "text/markdown": [
       "712"
      ],
      "text/plain": [
       "[1] 712"
      ]
     },
     "metadata": {},
     "output_type": "display_data"
    },
    {
     "data": {
      "text/html": [
       "9387024"
      ],
      "text/latex": [
       "9387024"
      ],
      "text/markdown": [
       "9387024"
      ],
      "text/plain": [
       "[1] 9387024"
      ]
     },
     "metadata": {},
     "output_type": "display_data"
    },
    {
     "data": {
      "text/html": [
       "1"
      ],
      "text/latex": [
       "1"
      ],
      "text/markdown": [
       "1"
      ],
      "text/plain": [
       "[1] 1"
      ]
     },
     "metadata": {},
     "output_type": "display_data"
    },
    {
     "data": {
      "text/plain": [
       "   Min. 1st Qu.  Median    Mean 3rd Qu.    Max. \n",
       "      1     412     712    1479    1289 9387024 "
      ]
     },
     "metadata": {},
     "output_type": "display_data"
    },
    {
     "data": {
      "text/html": [
       "<table class=\"dataframe\">\n",
       "<caption>A data.frame: 2 × 2</caption>\n",
       "<thead>\n",
       "\t<tr><th scope=col>all_trips_v2$member_casual</th><th scope=col>all_trips_v2$ride_length</th></tr>\n",
       "\t<tr><th scope=col>&lt;chr&gt;</th><th scope=col>&lt;dbl&gt;</th></tr>\n",
       "</thead>\n",
       "<tbody>\n",
       "\t<tr><td>casual</td><td>3552.7502</td></tr>\n",
       "\t<tr><td>member</td><td> 850.0662</td></tr>\n",
       "</tbody>\n",
       "</table>\n"
      ],
      "text/latex": [
       "A data.frame: 2 × 2\n",
       "\\begin{tabular}{ll}\n",
       " all\\_trips\\_v2\\$member\\_casual & all\\_trips\\_v2\\$ride\\_length\\\\\n",
       " <chr> & <dbl>\\\\\n",
       "\\hline\n",
       "\t casual & 3552.7502\\\\\n",
       "\t member &  850.0662\\\\\n",
       "\\end{tabular}\n"
      ],
      "text/markdown": [
       "\n",
       "A data.frame: 2 × 2\n",
       "\n",
       "| all_trips_v2$member_casual &lt;chr&gt; | all_trips_v2$ride_length &lt;dbl&gt; |\n",
       "|---|---|\n",
       "| casual | 3552.7502 |\n",
       "| member |  850.0662 |\n",
       "\n"
      ],
      "text/plain": [
       "  all_trips_v2$member_casual all_trips_v2$ride_length\n",
       "1 casual                     3552.7502               \n",
       "2 member                      850.0662               "
      ]
     },
     "metadata": {},
     "output_type": "display_data"
    },
    {
     "data": {
      "text/html": [
       "<table class=\"dataframe\">\n",
       "<caption>A data.frame: 2 × 2</caption>\n",
       "<thead>\n",
       "\t<tr><th scope=col>all_trips_v2$member_casual</th><th scope=col>all_trips_v2$ride_length</th></tr>\n",
       "\t<tr><th scope=col>&lt;chr&gt;</th><th scope=col>&lt;dbl&gt;</th></tr>\n",
       "</thead>\n",
       "<tbody>\n",
       "\t<tr><td>casual</td><td>1546</td></tr>\n",
       "\t<tr><td>member</td><td> 589</td></tr>\n",
       "</tbody>\n",
       "</table>\n"
      ],
      "text/latex": [
       "A data.frame: 2 × 2\n",
       "\\begin{tabular}{ll}\n",
       " all\\_trips\\_v2\\$member\\_casual & all\\_trips\\_v2\\$ride\\_length\\\\\n",
       " <chr> & <dbl>\\\\\n",
       "\\hline\n",
       "\t casual & 1546\\\\\n",
       "\t member &  589\\\\\n",
       "\\end{tabular}\n"
      ],
      "text/markdown": [
       "\n",
       "A data.frame: 2 × 2\n",
       "\n",
       "| all_trips_v2$member_casual &lt;chr&gt; | all_trips_v2$ride_length &lt;dbl&gt; |\n",
       "|---|---|\n",
       "| casual | 1546 |\n",
       "| member |  589 |\n",
       "\n"
      ],
      "text/plain": [
       "  all_trips_v2$member_casual all_trips_v2$ride_length\n",
       "1 casual                     1546                    \n",
       "2 member                      589                    "
      ]
     },
     "metadata": {},
     "output_type": "display_data"
    },
    {
     "data": {
      "text/html": [
       "<table class=\"dataframe\">\n",
       "<caption>A data.frame: 2 × 2</caption>\n",
       "<thead>\n",
       "\t<tr><th scope=col>all_trips_v2$member_casual</th><th scope=col>all_trips_v2$ride_length</th></tr>\n",
       "\t<tr><th scope=col>&lt;chr&gt;</th><th scope=col>&lt;dbl&gt;</th></tr>\n",
       "</thead>\n",
       "<tbody>\n",
       "\t<tr><td>casual</td><td>9387024</td></tr>\n",
       "\t<tr><td>member</td><td>9056634</td></tr>\n",
       "</tbody>\n",
       "</table>\n"
      ],
      "text/latex": [
       "A data.frame: 2 × 2\n",
       "\\begin{tabular}{ll}\n",
       " all\\_trips\\_v2\\$member\\_casual & all\\_trips\\_v2\\$ride\\_length\\\\\n",
       " <chr> & <dbl>\\\\\n",
       "\\hline\n",
       "\t casual & 9387024\\\\\n",
       "\t member & 9056634\\\\\n",
       "\\end{tabular}\n"
      ],
      "text/markdown": [
       "\n",
       "A data.frame: 2 × 2\n",
       "\n",
       "| all_trips_v2$member_casual &lt;chr&gt; | all_trips_v2$ride_length &lt;dbl&gt; |\n",
       "|---|---|\n",
       "| casual | 9387024 |\n",
       "| member | 9056634 |\n",
       "\n"
      ],
      "text/plain": [
       "  all_trips_v2$member_casual all_trips_v2$ride_length\n",
       "1 casual                     9387024                 \n",
       "2 member                     9056634                 "
      ]
     },
     "metadata": {},
     "output_type": "display_data"
    },
    {
     "data": {
      "text/html": [
       "<table class=\"dataframe\">\n",
       "<caption>A data.frame: 2 × 2</caption>\n",
       "<thead>\n",
       "\t<tr><th scope=col>all_trips_v2$member_casual</th><th scope=col>all_trips_v2$ride_length</th></tr>\n",
       "\t<tr><th scope=col>&lt;chr&gt;</th><th scope=col>&lt;dbl&gt;</th></tr>\n",
       "</thead>\n",
       "<tbody>\n",
       "\t<tr><td>casual</td><td>2</td></tr>\n",
       "\t<tr><td>member</td><td>1</td></tr>\n",
       "</tbody>\n",
       "</table>\n"
      ],
      "text/latex": [
       "A data.frame: 2 × 2\n",
       "\\begin{tabular}{ll}\n",
       " all\\_trips\\_v2\\$member\\_casual & all\\_trips\\_v2\\$ride\\_length\\\\\n",
       " <chr> & <dbl>\\\\\n",
       "\\hline\n",
       "\t casual & 2\\\\\n",
       "\t member & 1\\\\\n",
       "\\end{tabular}\n"
      ],
      "text/markdown": [
       "\n",
       "A data.frame: 2 × 2\n",
       "\n",
       "| all_trips_v2$member_casual &lt;chr&gt; | all_trips_v2$ride_length &lt;dbl&gt; |\n",
       "|---|---|\n",
       "| casual | 2 |\n",
       "| member | 1 |\n",
       "\n"
      ],
      "text/plain": [
       "  all_trips_v2$member_casual all_trips_v2$ride_length\n",
       "1 casual                     2                       \n",
       "2 member                     1                       "
      ]
     },
     "metadata": {},
     "output_type": "display_data"
    },
    {
     "data": {
      "text/html": [
       "<table class=\"dataframe\">\n",
       "<caption>A data.frame: 14 × 3</caption>\n",
       "<thead>\n",
       "\t<tr><th scope=col>all_trips_v2$member_casual</th><th scope=col>all_trips_v2$day_of_week</th><th scope=col>all_trips_v2$ride_length</th></tr>\n",
       "\t<tr><th scope=col>&lt;chr&gt;</th><th scope=col>&lt;chr&gt;</th><th scope=col>&lt;dbl&gt;</th></tr>\n",
       "</thead>\n",
       "<tbody>\n",
       "\t<tr><td>casual</td><td>Friday   </td><td>3773.8351</td></tr>\n",
       "\t<tr><td>member</td><td>Friday   </td><td> 824.5305</td></tr>\n",
       "\t<tr><td>casual</td><td>Monday   </td><td>3372.2869</td></tr>\n",
       "\t<tr><td>member</td><td>Monday   </td><td> 842.5726</td></tr>\n",
       "\t<tr><td>casual</td><td>Saturday </td><td>3331.9138</td></tr>\n",
       "\t<tr><td>member</td><td>Saturday </td><td> 968.9337</td></tr>\n",
       "\t<tr><td>casual</td><td>Sunday   </td><td>3581.4054</td></tr>\n",
       "\t<tr><td>member</td><td>Sunday   </td><td> 919.9746</td></tr>\n",
       "\t<tr><td>casual</td><td>Thursday </td><td>3682.9847</td></tr>\n",
       "\t<tr><td>member</td><td>Thursday </td><td> 823.9278</td></tr>\n",
       "\t<tr><td>casual</td><td>Tuesday  </td><td>3596.3599</td></tr>\n",
       "\t<tr><td>member</td><td>Tuesday  </td><td> 826.1427</td></tr>\n",
       "\t<tr><td>casual</td><td>Wednesday</td><td>3718.6619</td></tr>\n",
       "\t<tr><td>member</td><td>Wednesday</td><td> 823.9996</td></tr>\n",
       "</tbody>\n",
       "</table>\n"
      ],
      "text/latex": [
       "A data.frame: 14 × 3\n",
       "\\begin{tabular}{lll}\n",
       " all\\_trips\\_v2\\$member\\_casual & all\\_trips\\_v2\\$day\\_of\\_week & all\\_trips\\_v2\\$ride\\_length\\\\\n",
       " <chr> & <chr> & <dbl>\\\\\n",
       "\\hline\n",
       "\t casual & Friday    & 3773.8351\\\\\n",
       "\t member & Friday    &  824.5305\\\\\n",
       "\t casual & Monday    & 3372.2869\\\\\n",
       "\t member & Monday    &  842.5726\\\\\n",
       "\t casual & Saturday  & 3331.9138\\\\\n",
       "\t member & Saturday  &  968.9337\\\\\n",
       "\t casual & Sunday    & 3581.4054\\\\\n",
       "\t member & Sunday    &  919.9746\\\\\n",
       "\t casual & Thursday  & 3682.9847\\\\\n",
       "\t member & Thursday  &  823.9278\\\\\n",
       "\t casual & Tuesday   & 3596.3599\\\\\n",
       "\t member & Tuesday   &  826.1427\\\\\n",
       "\t casual & Wednesday & 3718.6619\\\\\n",
       "\t member & Wednesday &  823.9996\\\\\n",
       "\\end{tabular}\n"
      ],
      "text/markdown": [
       "\n",
       "A data.frame: 14 × 3\n",
       "\n",
       "| all_trips_v2$member_casual &lt;chr&gt; | all_trips_v2$day_of_week &lt;chr&gt; | all_trips_v2$ride_length &lt;dbl&gt; |\n",
       "|---|---|---|\n",
       "| casual | Friday    | 3773.8351 |\n",
       "| member | Friday    |  824.5305 |\n",
       "| casual | Monday    | 3372.2869 |\n",
       "| member | Monday    |  842.5726 |\n",
       "| casual | Saturday  | 3331.9138 |\n",
       "| member | Saturday  |  968.9337 |\n",
       "| casual | Sunday    | 3581.4054 |\n",
       "| member | Sunday    |  919.9746 |\n",
       "| casual | Thursday  | 3682.9847 |\n",
       "| member | Thursday  |  823.9278 |\n",
       "| casual | Tuesday   | 3596.3599 |\n",
       "| member | Tuesday   |  826.1427 |\n",
       "| casual | Wednesday | 3718.6619 |\n",
       "| member | Wednesday |  823.9996 |\n",
       "\n"
      ],
      "text/plain": [
       "   all_trips_v2$member_casual all_trips_v2$day_of_week all_trips_v2$ride_length\n",
       "1  casual                     Friday                   3773.8351               \n",
       "2  member                     Friday                    824.5305               \n",
       "3  casual                     Monday                   3372.2869               \n",
       "4  member                     Monday                    842.5726               \n",
       "5  casual                     Saturday                 3331.9138               \n",
       "6  member                     Saturday                  968.9337               \n",
       "7  casual                     Sunday                   3581.4054               \n",
       "8  member                     Sunday                    919.9746               \n",
       "9  casual                     Thursday                 3682.9847               \n",
       "10 member                     Thursday                  823.9278               \n",
       "11 casual                     Tuesday                  3596.3599               \n",
       "12 member                     Tuesday                   826.1427               \n",
       "13 casual                     Wednesday                3718.6619               \n",
       "14 member                     Wednesday                 823.9996               "
      ]
     },
     "metadata": {},
     "output_type": "display_data"
    },
    {
     "data": {
      "text/html": [
       "<table class=\"dataframe\">\n",
       "<caption>A data.frame: 14 × 3</caption>\n",
       "<thead>\n",
       "\t<tr><th scope=col>all_trips_v2$member_casual</th><th scope=col>all_trips_v2$day_of_week</th><th scope=col>all_trips_v2$ride_length</th></tr>\n",
       "\t<tr><th scope=col>&lt;chr&gt;</th><th scope=col>&lt;ord&gt;</th><th scope=col>&lt;dbl&gt;</th></tr>\n",
       "</thead>\n",
       "<tbody>\n",
       "\t<tr><td>casual</td><td>Sunday   </td><td>3581.4054</td></tr>\n",
       "\t<tr><td>member</td><td>Sunday   </td><td> 919.9746</td></tr>\n",
       "\t<tr><td>casual</td><td>Monday   </td><td>3372.2869</td></tr>\n",
       "\t<tr><td>member</td><td>Monday   </td><td> 842.5726</td></tr>\n",
       "\t<tr><td>casual</td><td>Tuesday  </td><td>3596.3599</td></tr>\n",
       "\t<tr><td>member</td><td>Tuesday  </td><td> 826.1427</td></tr>\n",
       "\t<tr><td>casual</td><td>Wednesday</td><td>3718.6619</td></tr>\n",
       "\t<tr><td>member</td><td>Wednesday</td><td> 823.9996</td></tr>\n",
       "\t<tr><td>casual</td><td>Thursday </td><td>3682.9847</td></tr>\n",
       "\t<tr><td>member</td><td>Thursday </td><td> 823.9278</td></tr>\n",
       "\t<tr><td>casual</td><td>Friday   </td><td>3773.8351</td></tr>\n",
       "\t<tr><td>member</td><td>Friday   </td><td> 824.5305</td></tr>\n",
       "\t<tr><td>casual</td><td>Saturday </td><td>3331.9138</td></tr>\n",
       "\t<tr><td>member</td><td>Saturday </td><td> 968.9337</td></tr>\n",
       "</tbody>\n",
       "</table>\n"
      ],
      "text/latex": [
       "A data.frame: 14 × 3\n",
       "\\begin{tabular}{lll}\n",
       " all\\_trips\\_v2\\$member\\_casual & all\\_trips\\_v2\\$day\\_of\\_week & all\\_trips\\_v2\\$ride\\_length\\\\\n",
       " <chr> & <ord> & <dbl>\\\\\n",
       "\\hline\n",
       "\t casual & Sunday    & 3581.4054\\\\\n",
       "\t member & Sunday    &  919.9746\\\\\n",
       "\t casual & Monday    & 3372.2869\\\\\n",
       "\t member & Monday    &  842.5726\\\\\n",
       "\t casual & Tuesday   & 3596.3599\\\\\n",
       "\t member & Tuesday   &  826.1427\\\\\n",
       "\t casual & Wednesday & 3718.6619\\\\\n",
       "\t member & Wednesday &  823.9996\\\\\n",
       "\t casual & Thursday  & 3682.9847\\\\\n",
       "\t member & Thursday  &  823.9278\\\\\n",
       "\t casual & Friday    & 3773.8351\\\\\n",
       "\t member & Friday    &  824.5305\\\\\n",
       "\t casual & Saturday  & 3331.9138\\\\\n",
       "\t member & Saturday  &  968.9337\\\\\n",
       "\\end{tabular}\n"
      ],
      "text/markdown": [
       "\n",
       "A data.frame: 14 × 3\n",
       "\n",
       "| all_trips_v2$member_casual &lt;chr&gt; | all_trips_v2$day_of_week &lt;ord&gt; | all_trips_v2$ride_length &lt;dbl&gt; |\n",
       "|---|---|---|\n",
       "| casual | Sunday    | 3581.4054 |\n",
       "| member | Sunday    |  919.9746 |\n",
       "| casual | Monday    | 3372.2869 |\n",
       "| member | Monday    |  842.5726 |\n",
       "| casual | Tuesday   | 3596.3599 |\n",
       "| member | Tuesday   |  826.1427 |\n",
       "| casual | Wednesday | 3718.6619 |\n",
       "| member | Wednesday |  823.9996 |\n",
       "| casual | Thursday  | 3682.9847 |\n",
       "| member | Thursday  |  823.9278 |\n",
       "| casual | Friday    | 3773.8351 |\n",
       "| member | Friday    |  824.5305 |\n",
       "| casual | Saturday  | 3331.9138 |\n",
       "| member | Saturday  |  968.9337 |\n",
       "\n"
      ],
      "text/plain": [
       "   all_trips_v2$member_casual all_trips_v2$day_of_week all_trips_v2$ride_length\n",
       "1  casual                     Sunday                   3581.4054               \n",
       "2  member                     Sunday                    919.9746               \n",
       "3  casual                     Monday                   3372.2869               \n",
       "4  member                     Monday                    842.5726               \n",
       "5  casual                     Tuesday                  3596.3599               \n",
       "6  member                     Tuesday                   826.1427               \n",
       "7  casual                     Wednesday                3718.6619               \n",
       "8  member                     Wednesday                 823.9996               \n",
       "9  casual                     Thursday                 3682.9847               \n",
       "10 member                     Thursday                  823.9278               \n",
       "11 casual                     Friday                   3773.8351               \n",
       "12 member                     Friday                    824.5305               \n",
       "13 casual                     Saturday                 3331.9138               \n",
       "14 member                     Saturday                  968.9337               "
      ]
     },
     "metadata": {},
     "output_type": "display_data"
    },
    {
     "name": "stderr",
     "output_type": "stream",
     "text": [
      "\u001b[1m\u001b[22m`summarise()` has grouped output by 'member_casual'. You can override using the\n",
      "`.groups` argument.\n"
     ]
    },
    {
     "data": {
      "text/html": [
       "<table class=\"dataframe\">\n",
       "<caption>A grouped_df: 14 × 4</caption>\n",
       "<thead>\n",
       "\t<tr><th scope=col>member_casual</th><th scope=col>weekday</th><th scope=col>number_of_rides</th><th scope=col>average_duration</th></tr>\n",
       "\t<tr><th scope=col>&lt;chr&gt;</th><th scope=col>&lt;ord&gt;</th><th scope=col>&lt;int&gt;</th><th scope=col>&lt;dbl&gt;</th></tr>\n",
       "</thead>\n",
       "<tbody>\n",
       "\t<tr><td>casual</td><td>Sun</td><td>181293</td><td>3581.4054</td></tr>\n",
       "\t<tr><td>casual</td><td>Mon</td><td>103296</td><td>3372.2869</td></tr>\n",
       "\t<tr><td>casual</td><td>Tue</td><td> 90510</td><td>3596.3599</td></tr>\n",
       "\t<tr><td>casual</td><td>Wed</td><td> 92457</td><td>3718.6619</td></tr>\n",
       "\t<tr><td>casual</td><td>Thu</td><td>102679</td><td>3682.9847</td></tr>\n",
       "\t<tr><td>casual</td><td>Fri</td><td>122404</td><td>3773.8351</td></tr>\n",
       "\t<tr><td>casual</td><td>Sat</td><td>209543</td><td>3331.9138</td></tr>\n",
       "\t<tr><td>member</td><td>Sun</td><td>267965</td><td> 919.9746</td></tr>\n",
       "\t<tr><td>member</td><td>Mon</td><td>472196</td><td> 842.5726</td></tr>\n",
       "\t<tr><td>member</td><td>Tue</td><td>508445</td><td> 826.1427</td></tr>\n",
       "\t<tr><td>member</td><td>Wed</td><td>500329</td><td> 823.9996</td></tr>\n",
       "\t<tr><td>member</td><td>Thu</td><td>484177</td><td> 823.9278</td></tr>\n",
       "\t<tr><td>member</td><td>Fri</td><td>452790</td><td> 824.5305</td></tr>\n",
       "\t<tr><td>member</td><td>Sat</td><td>287958</td><td> 968.9337</td></tr>\n",
       "</tbody>\n",
       "</table>\n"
      ],
      "text/latex": [
       "A grouped\\_df: 14 × 4\n",
       "\\begin{tabular}{llll}\n",
       " member\\_casual & weekday & number\\_of\\_rides & average\\_duration\\\\\n",
       " <chr> & <ord> & <int> & <dbl>\\\\\n",
       "\\hline\n",
       "\t casual & Sun & 181293 & 3581.4054\\\\\n",
       "\t casual & Mon & 103296 & 3372.2869\\\\\n",
       "\t casual & Tue &  90510 & 3596.3599\\\\\n",
       "\t casual & Wed &  92457 & 3718.6619\\\\\n",
       "\t casual & Thu & 102679 & 3682.9847\\\\\n",
       "\t casual & Fri & 122404 & 3773.8351\\\\\n",
       "\t casual & Sat & 209543 & 3331.9138\\\\\n",
       "\t member & Sun & 267965 &  919.9746\\\\\n",
       "\t member & Mon & 472196 &  842.5726\\\\\n",
       "\t member & Tue & 508445 &  826.1427\\\\\n",
       "\t member & Wed & 500329 &  823.9996\\\\\n",
       "\t member & Thu & 484177 &  823.9278\\\\\n",
       "\t member & Fri & 452790 &  824.5305\\\\\n",
       "\t member & Sat & 287958 &  968.9337\\\\\n",
       "\\end{tabular}\n"
      ],
      "text/markdown": [
       "\n",
       "A grouped_df: 14 × 4\n",
       "\n",
       "| member_casual &lt;chr&gt; | weekday &lt;ord&gt; | number_of_rides &lt;int&gt; | average_duration &lt;dbl&gt; |\n",
       "|---|---|---|---|\n",
       "| casual | Sun | 181293 | 3581.4054 |\n",
       "| casual | Mon | 103296 | 3372.2869 |\n",
       "| casual | Tue |  90510 | 3596.3599 |\n",
       "| casual | Wed |  92457 | 3718.6619 |\n",
       "| casual | Thu | 102679 | 3682.9847 |\n",
       "| casual | Fri | 122404 | 3773.8351 |\n",
       "| casual | Sat | 209543 | 3331.9138 |\n",
       "| member | Sun | 267965 |  919.9746 |\n",
       "| member | Mon | 472196 |  842.5726 |\n",
       "| member | Tue | 508445 |  826.1427 |\n",
       "| member | Wed | 500329 |  823.9996 |\n",
       "| member | Thu | 484177 |  823.9278 |\n",
       "| member | Fri | 452790 |  824.5305 |\n",
       "| member | Sat | 287958 |  968.9337 |\n",
       "\n"
      ],
      "text/plain": [
       "   member_casual weekday number_of_rides average_duration\n",
       "1  casual        Sun     181293          3581.4054       \n",
       "2  casual        Mon     103296          3372.2869       \n",
       "3  casual        Tue      90510          3596.3599       \n",
       "4  casual        Wed      92457          3718.6619       \n",
       "5  casual        Thu     102679          3682.9847       \n",
       "6  casual        Fri     122404          3773.8351       \n",
       "7  casual        Sat     209543          3331.9138       \n",
       "8  member        Sun     267965           919.9746       \n",
       "9  member        Mon     472196           842.5726       \n",
       "10 member        Tue     508445           826.1427       \n",
       "11 member        Wed     500329           823.9996       \n",
       "12 member        Thu     484177           823.9278       \n",
       "13 member        Fri     452790           824.5305       \n",
       "14 member        Sat     287958           968.9337       "
      ]
     },
     "metadata": {},
     "output_type": "display_data"
    }
   ],
   "source": [
    "#STEP 4: CONDUCT DESCRIPTIVE ANALYSIS\n",
    "\n",
    "# Descriptive analysis on ride_length (all figures in seconds)\n",
    "mean(all_trips_v2$ride_length)  # straight average (total ride length / rides)\n",
    "median(all_trips_v2$ride_length)  # midpoint number in the ascending array of ride lengths\n",
    "max(all_trips_v2$ride_length)  # longest ride\n",
    "min(all_trips_v2$ride_length)  # shortest ride\n",
    "\n",
    "# You can condense the four lines above to one line using summary() on the specific attribute\n",
    "summary(all_trips_v2$ride_length)\n",
    "\n",
    "# Compare members and casual users\n",
    "aggregate(all_trips_v2$ride_length ~ all_trips_v2$member_casual, FUN = mean)\n",
    "aggregate(all_trips_v2$ride_length ~ all_trips_v2$member_casual, FUN = median)\n",
    "aggregate(all_trips_v2$ride_length ~ all_trips_v2$member_casual, FUN = max)\n",
    "aggregate(all_trips_v2$ride_length ~ all_trips_v2$member_casual, FUN = min)\n",
    "\n",
    "# See the average ride time by each day for members vs casual users\n",
    "aggregate(all_trips_v2$ride_length ~ all_trips_v2$member_casual + all_trips_v2$day_of_week, FUN = mean)\n",
    "\n",
    "# Notice that the days of the week are out of order. Let's fix that.\n",
    "all_trips_v2$day_of_week <- ordered(all_trips_v2$day_of_week, \n",
    "                                    levels=c(\"Sunday\", \"Monday\", \"Tuesday\", \n",
    "                                             \"Wednesday\", \"Thursday\", \"Friday\", \"Saturday\"))\n",
    "\n",
    "# Now, let's run the average ride time by each day for members vs casual users\n",
    "aggregate(all_trips_v2$ride_length ~ all_trips_v2$member_casual + all_trips_v2$day_of_week, FUN = mean)\n",
    "\n",
    "#Analyze Ridership Data by Type and Weekday\n",
    "all_trips_v2 %>%\n",
    "  mutate(weekday = wday(started_at, label = TRUE)) %>%  # creates weekday field using wday()\n",
    "  group_by(member_casual, weekday) %>%  # groups by usertype and weekday\n",
    "  summarise(number_of_rides = n(),  # calculates the number of rides and average duration \n",
    "            average_duration = mean(ride_length)) %>%  # calculates the average duration\n",
    "  arrange(member_casual, weekday)  # sorts the data\n"
   ]
  },
  {
   "cell_type": "markdown",
   "id": "02233020",
   "metadata": {
    "papermill": {
     "duration": 0.007334,
     "end_time": "2024-09-27T04:18:05.301455",
     "exception": false,
     "start_time": "2024-09-27T04:18:05.294121",
     "status": "completed"
    },
    "tags": []
   },
   "source": [
    "Share: Data Visualization\n",
    "We visualize the number of rides and average ride duration for each rider type using ggplot2:\n",
    "\n",
    "Number of Rides by Rider Type"
   ]
  },
  {
   "cell_type": "code",
   "execution_count": 5,
   "id": "24bb0c48",
   "metadata": {
    "execution": {
     "iopub.execute_input": "2024-09-27T04:18:05.320163Z",
     "iopub.status.busy": "2024-09-27T04:18:05.318516Z",
     "iopub.status.idle": "2024-09-27T04:18:09.944226Z",
     "shell.execute_reply": "2024-09-27T04:18:09.941276Z"
    },
    "papermill": {
     "duration": 4.638853,
     "end_time": "2024-09-27T04:18:09.947715",
     "exception": false,
     "start_time": "2024-09-27T04:18:05.308862",
     "status": "completed"
    },
    "tags": []
   },
   "outputs": [
    {
     "name": "stderr",
     "output_type": "stream",
     "text": [
      "\u001b[1m\u001b[22m`summarise()` has grouped output by 'member_casual'. You can override using the\n",
      "`.groups` argument.\n"
     ]
    },
    {
     "data": {
      "image/png": "[encoded data removed]"
     },
     "metadata": {
      "image/png": {
       "height": 420,
       "width": 420
      }
     },
     "output_type": "display_data"
    }
   ],
   "source": [
    "#Visualization: Number of Rides by Rider Type\n",
    "all_trips_v2 %>%\n",
    "  mutate(weekday = wday(started_at, label = TRUE)) %>% \n",
    "  group_by(member_casual, weekday) %>% \n",
    "  summarise(number_of_rides = n(),\n",
    "            average_duration = mean(ride_length)) %>% \n",
    "  arrange(member_casual, weekday)  %>% \n",
    "  ggplot(aes(x = weekday, y = number_of_rides, fill = member_casual)) +\n",
    "  geom_col(position = \"dodge\") +\n",
    "  labs(title = \"Number of Rides by Rider Type and Day of the Week\",\n",
    "       x = \"Day of the Week\",\n",
    "       y = \"Number of Rides\",\n",
    "       fill = \"Rider Type\") +\n",
    "  theme_minimal()"
   ]
  },
  {
   "cell_type": "markdown",
   "id": "8596a1f1",
   "metadata": {
    "papermill": {
     "duration": 0.00834,
     "end_time": "2024-09-27T04:18:09.964591",
     "exception": false,
     "start_time": "2024-09-27T04:18:09.956251",
     "status": "completed"
    },
    "tags": []
   },
   "source": [
    "Average Ride Duration by Rider Type"
   ]
  },
  {
   "cell_type": "code",
   "execution_count": 6,
   "id": "7d8e71ce",
   "metadata": {
    "execution": {
     "iopub.execute_input": "2024-09-27T04:18:09.984680Z",
     "iopub.status.busy": "2024-09-27T04:18:09.983067Z",
     "iopub.status.idle": "2024-09-27T04:18:14.491716Z",
     "shell.execute_reply": "2024-09-27T04:18:14.488875Z"
    },
    "papermill": {
     "duration": 4.522416,
     "end_time": "2024-09-27T04:18:14.495152",
     "exception": false,
     "start_time": "2024-09-27T04:18:09.972736",
     "status": "completed"
    },
    "tags": []
   },
   "outputs": [
    {
     "name": "stderr",
     "output_type": "stream",
     "text": [
      "\u001b[1m\u001b[22m`summarise()` has grouped output by 'member_casual'. You can override using the\n",
      "`.groups` argument.\n"
     ]
    },
    {
     "data": {
      "image/png": "[encoded data removed]"
     },
     "metadata": {
      "image/png": {
       "height": 420,
       "width": 420
      }
     },
     "output_type": "display_data"
    }
   ],
   "source": [
    "#Visualization: Average Duration by Rider Type\n",
    "all_trips_v2 %>%\n",
    "  mutate(weekday = wday(started_at, label = TRUE)) %>% \n",
    "  group_by(member_casual, weekday) %>% \n",
    "  summarise(number_of_rides = n(),\n",
    "            average_duration = mean(ride_length)) %>% \n",
    "  arrange(member_casual, weekday)  %>% \n",
    "  ggplot(aes(x = weekday, y = average_duration, fill = member_casual)) +\n",
    "  geom_col(position = \"dodge\") +\n",
    "  labs(title = \"Average Duration by Rider Type and Day of the Week\",\n",
    "       x = \"Day of the Week\",\n",
    "       y = \"Average Duration (seconds)\",\n",
    "       fill = \"Rider Type\") +\n",
    "  theme_minimal()"
   ]
  },
  {
   "cell_type": "markdown",
   "id": "f874c296",
   "metadata": {
    "papermill": {
     "duration": 0.00905,
     "end_time": "2024-09-27T04:18:14.513602",
     "exception": false,
     "start_time": "2024-09-27T04:18:14.504552",
     "status": "completed"
    },
    "tags": []
   },
   "source": [
    "#Step 5: Export Summary File for Further Analysis"
   ]
  },
  {
   "cell_type": "code",
   "execution_count": 7,
   "id": "b81492c1",
   "metadata": {
    "execution": {
     "iopub.execute_input": "2024-09-27T04:18:14.535470Z",
     "iopub.status.busy": "2024-09-27T04:18:14.533713Z",
     "iopub.status.idle": "2024-09-27T04:18:14.871499Z",
     "shell.execute_reply": "2024-09-27T04:18:14.869705Z"
    },
    "papermill": {
     "duration": 0.352043,
     "end_time": "2024-09-27T04:18:14.874599",
     "exception": false,
     "start_time": "2024-09-27T04:18:14.522556",
     "status": "completed"
    },
    "tags": []
   },
   "outputs": [
    {
     "name": "stderr",
     "output_type": "stream",
     "text": [
      "\u001b[1m\u001b[22m`summarise()` has grouped output by 'member_casual'. You can override using the\n",
      "`.groups` argument.\n"
     ]
    }
   ],
   "source": [
    "counts <- all_trips_v2 %>%\n",
    "  group_by(member_casual, day_of_week) %>%\n",
    "  summarise(\n",
    "    average_ride_length = mean(ride_length),\n",
    "    count_of_rides = n()\n",
    "  )\n"
   ]
  },
  {
   "cell_type": "markdown",
   "id": "b97562db",
   "metadata": {
    "papermill": {
     "duration": 0.00983,
     "end_time": "2024-09-27T04:18:14.893509",
     "exception": false,
     "start_time": "2024-09-27T04:18:14.883679",
     "status": "completed"
    },
    "tags": []
   },
   "source": [
    "Share:\n",
    "\n",
    "Key Findings:\n",
    "\n",
    "Longer Ride Lengths for Casual Riders.\n",
    "\n",
    "Higher Activity for Casual Riders on Weekends.\n",
    "\n",
    "Consistent Ride Patterns for Members.\n",
    "\n",
    "Act:\n",
    "\n",
    "Recommendations\n",
    "\n",
    "Recommendation 1: Cyclistic should offer weekend promotions targeting casual riders. Casual riders tend to use bikes more on weekends, so promotions during these periods could drive increased ride members.\n",
    "\n",
    "Recommendation 2: Provide membership discount offers based on casual riders' frequent routes. Highlight convenience and cost-saving benefits of becoming an member.\n",
    "\n",
    "Recommendation 3: Launch social media campaigns targeting lifestyle benefits such as fitness, cost savings, and environmental benefits, encouraging casual riders to become members.\n",
    "\n"
   ]
  }
 ],
 "metadata": {
  "kaggle": {
   "accelerator": "none",
   "dataSources": [
    {
     "datasetId": 5761689,
     "sourceId": 9473908,
     "sourceType": "datasetVersion"
    }
   ],
   "dockerImageVersionId": 30749,
   "isGpuEnabled": false,
   "isInternetEnabled": false,
   "language": "r",
   "sourceType": "notebook"
  },
  "kernelspec": {
   "display_name": "R",
   "language": "R",
   "name": "ir"
  },
  "language_info": {
   "codemirror_mode": "r",
   "file_extension": ".r",
   "mimetype": "text/x-r-source",
   "name": "R",
   "pygments_lexer": "r",
   "version": "4.4.0"
  },
  "papermill": {
   "default_parameters": {},
   "duration": 73.594133,
   "end_time": "2024-09-27T04:18:15.124558",
   "environment_variables": {},
   "exception": null,
   "input_path": "__notebook__.ipynb",
   "output_path": "__notebook__.ipynb",
   "parameters": {},
   "start_time": "2024-09-27T04:17:01.530425",
   "version": "2.6.0"
  }
 },
 "nbformat": 4,
 "nbformat_minor": 5
}
